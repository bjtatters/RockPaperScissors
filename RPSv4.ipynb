{
 "cells": [
  {
   "cell_type": "markdown",
   "id": "f510ddfa",
   "metadata": {},
   "source": [
    "Having just read the book, \"The Man Who Solved The Markets: How Jim Simons Launched The Quant Revolution\", I've become interested in the applications of pattern recognition in financial markets. While the book remains far more of a biography than an analysis of algorithmic trading strategies, it still mentions a few of the mathematical tools Simons employed to grow the Medallion Fund. Implementing most of these tools in practice lies far beyond my elementary coding abilities. That said, I have decided to try and get to grips with the basics of AI / pattern recognition by applying similar principles to the very simple game: Rock, Paper, Scissors."
   ]
  },
  {
   "cell_type": "markdown",
   "id": "4434754b",
   "metadata": {},
   "source": [
    "This strategy in of itself is by no means advanced, however there are certain approaches we can take to develop it further. First, we need a way to combine the data from all the columns / patterns in deciding what hand to play next. To do that, we can convert the % figures back to integers. For each hand (R, P or S), we can then add up how many times each has come up in each pattern. Using a sum function, we can decide which hand to play. The output would look as follows. "
   ]
  },
  {
   "cell_type": "markdown",
   "id": "ab1a8977",
   "metadata": {},
   "source": [
    "Although rock-paper-scissors (RPS) may seem like a trivial game, it actually involves the hard computational problem of temporal pattern recognition. This problem is fundamental to the fields of machine learning, artificial intelligence, and data compression.\n",
    "\n",
    "To address this problem myself, I've decided to implement the following pattern recognition strategy.\n",
    "\n",
    "Assume the list below shows the last 40 hands played by an opponent in a game of RPS.\n",
    "\n",
    "['S','R','R','P','S','P','R','P','S','P','S','P','S','P','R','P','S','P','S','R','S','P','S','R','R','P','S','P','R','P','S','P','S','R','S','P','P','R','P','S'] ?\n",
    "\n",
    "To judge what is most likely to be played in the 41st hand, we can start by looking at the 40th, Scissors, and see what the historical distribution of hands played following a Scissors is. From there, we can look at the combination of the 39th and 40th hand, Scissors preceded by Paper, and see what the distribution of hands played following that combination is. We can then train the code to repeat this process for all patterns up to a designated length of the total length of the list of hands already played (currently set at a quarter of total list length).\n",
    "\n",
    "The table for the set of 40 hands above would look as follows. To select the recommended hand to next play, the program sums each of the N(Rock) / N(Paper) / N(Scissors) columns and takes the maximum to identify the hand most likely to be played next by the opponent. It recommendends the corresponding hand that would beat the opponent's one."
   ]
  },
  {
   "cell_type": "code",
   "execution_count": 41,
   "id": "1f7b6c39",
   "metadata": {
    "scrolled": true
   },
   "outputs": [
    {
     "name": "stdout",
     "output_type": "stream",
     "text": [
      "                           Pattern N(Rock) N(Paper) N(Scissors) N(Total)\n",
      "1                              [S]       4        9           0       13\n",
      "2                           [P, S]       3        7           0       10\n",
      "3                        [R, P, S]       0        5           0        5\n",
      "4                     [P, R, P, S]       0        3           0        3\n",
      "5                  [P, P, R, P, S]       0        0           0        0\n",
      "6               [S, P, P, R, P, S]       0        0           0        0\n",
      "7            [R, S, P, P, R, P, S]       0        0           0        0\n",
      "8         [S, R, S, P, P, R, P, S]       0        0           0        0\n",
      "9      [P, S, R, S, P, P, R, P, S]       0        0           0        0\n",
      "10  [S, P, S, R, S, P, P, R, P, S]       0        0           0        0\n",
      "Recommended next hand: S\n"
     ]
    }
   ],
   "source": [
    "# output table from sample sequence\n",
    "\n",
    "sample_sequence = ['S','R','R','P','S','P','R','P','S','P','S','P','S','P','R','P','S','P','S','R','S','P','S','R','R','P','S','P','R','P','S','P','S','R','S','P','P','R','P','S']\n",
    "identifypattern(sample_sequence)"
   ]
  },
  {
   "cell_type": "markdown",
   "id": "67336e55",
   "metadata": {},
   "source": [
    "Here is the algorithm"
   ]
  },
  {
   "cell_type": "code",
   "execution_count": 1,
   "id": "ae14025c",
   "metadata": {},
   "outputs": [],
   "source": [
    "import pandas as pd\n",
    "import numpy as np\n",
    "import random"
   ]
  },
  {
   "cell_type": "code",
   "execution_count": 40,
   "id": "536ba465",
   "metadata": {},
   "outputs": [],
   "source": [
    "def identifypattern(array):\n",
    "    \n",
    "    patterns = pd.DataFrame(columns = ['Pattern','N(Rock)','N(Paper)','N(Scissors)','N(Total)'])\n",
    "    global outcome\n",
    "    \n",
    "    if len(array) == 1:\n",
    "        outcome = random.choice(['R','P','S'])\n",
    "        print('Random next hand: {}'.format(outcome))\n",
    "    \n",
    "    else:\n",
    "        if len(array) % 4 == 0:\n",
    "            n = int(len(array)/4)\n",
    "        else: \n",
    "            n = int(round(len(array)/4))\n",
    "      \n",
    "        def countX(lst, x):\n",
    "            count = 0\n",
    "            for ele in lst:\n",
    "                if (ele == x):\n",
    "                    count = count + 1\n",
    "            return count\n",
    "\n",
    "        for i in range(0, n):\n",
    "\n",
    "            # select pattern\n",
    "            pattern = array[len(array)-i-1:len(array)]\n",
    "\n",
    "            # find all instances where first element of pattern occurs in array\n",
    "            possibles = [i for i, x in enumerate(array) if x == pattern[0]]\n",
    "\n",
    "            # don't want one of the possibles to include the pattern itself\n",
    "            possibles = [x for x in possibles if x < len(array)-len(pattern)]\n",
    "            solns,hands = ([] for i in range(2))\n",
    "\n",
    "            # now find all instances of the pattern\n",
    "            for p in possibles:\n",
    "                check = array[p:p+len(pattern)]\n",
    "                if len(check) == len(pattern) and np.all(check == pattern):\n",
    "                    solns.append(p)\n",
    "            \n",
    "            if len(solns) == 0: # i.e. no instances of this pattern have been previously recorded\n",
    "                row = [pattern,0,0,0,0] # better to use np.NaN then 0?\n",
    "                patterns.loc[len(patterns)] = row\n",
    "\n",
    "            else: \n",
    "                # retrieve next hand played for all previous instances of pattern\n",
    "                for sol in solns:\n",
    "                    hands.append(array[sol+len(pattern)])\n",
    "\n",
    "                hands_count = [pattern, countX(hands,'R'),countX(hands,'P'),countX(hands,'S'), (countX(hands,'R') + countX(hands,'P') + countX(hands,'S'))] \n",
    "                patterns.loc[len(patterns)] = hands_count \n",
    "        \n",
    "        patterns.index = np.arange(1, len(patterns) + 1)\n",
    "        print(patterns)\n",
    "\n",
    "        outcome_dict = {'P': patterns['N(Rock)'].sum(), 'S': patterns['N(Paper)'].sum(), 'R': patterns['N(Scissors)'].sum()}\n",
    "        outcome = max(outcome_dict, key=outcome_dict.get)\n",
    "        print('Recommended next hand: {}'.format(outcome))"
   ]
  },
  {
   "cell_type": "markdown",
   "id": "aa8c8091",
   "metadata": {},
   "source": [
    "Here is the functionality for a human opponent to play against the program."
   ]
  },
  {
   "cell_type": "code",
   "execution_count": null,
   "id": "f2a283e0",
   "metadata": {},
   "outputs": [],
   "source": [
    "user_array = np.array([], dtype = \"object\")\n",
    "\n",
    "rounds = input(\"How many rounds do you want to play: \")\n",
    "\n",
    "computer_score = 0\n",
    "opponent_score = 0\n",
    "\n",
    "for _ in range(int(rounds)):\n",
    "    user_action = input(\"Enter a choice (R, P, S): \")\n",
    "    user_array = np.append(user_array, user_action)\n",
    "    print(user_array)\n",
    "    markov1(user_array)\n",
    "    if user_action == 'R' and outcome == 'P': \n",
    "        computer_score += 1\n",
    "    if user_action == 'S' and outcome == 'R':\n",
    "        computer_score += 1\n",
    "    if user_action == 'P' and outcome == 'S':\n",
    "        computer_score += 1\n",
    "    if user_action == 'R' and outcome == 'S':\n",
    "        opponent_score += 1\n",
    "    if user_action == 'S' and outcome == 'P':\n",
    "        opponent_score += 1\n",
    "    if user_action == 'P' and outcome == 'R':\n",
    "        opponent_score += 1\n",
    "    print(\"Computer action: {}\".format(outcome))\n",
    "    print(\"Computer score: {}, Your score: {}\".format(computer_score, opponent_score))"
   ]
  },
  {
   "cell_type": "markdown",
   "id": "505b1544",
   "metadata": {},
   "source": [
    "This is certainly a simple approach and there is much room for further improvement. Firstly, we could build in memory to the model so that recent historical patterns hold more weight than those idenitfied in the early stages of the game as an opponent may change his strategy. Second, we could devise a more advanced way of evaluating the table outputs, perhaps using significance tests for the data on each row / pattern. For now though, this similar pattern recognition approach should suffice in besting the vast majority of human opponents. "
   ]
  }
 ],
 "metadata": {
  "kernelspec": {
   "display_name": "Python 3 (ipykernel)",
   "language": "python",
   "name": "python3"
  },
  "language_info": {
   "codemirror_mode": {
    "name": "ipython",
    "version": 3
   },
   "file_extension": ".py",
   "mimetype": "text/x-python",
   "name": "python",
   "nbconvert_exporter": "python",
   "pygments_lexer": "ipython3",
   "version": "3.9.1"
  }
 },
 "nbformat": 4,
 "nbformat_minor": 5
}
