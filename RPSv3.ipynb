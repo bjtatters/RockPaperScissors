{
 "cells": [
  {
   "cell_type": "markdown",
   "id": "f510ddfa",
   "metadata": {},
   "source": [
    "Having just read the book, \"The Man Who Solved The Markets: How Jim Simons Launched The Quant Revolution\", I've become interested in the applications of pattern recognition in financial markets. While the book remains far more of a biography than an analysis of algorithmic trading strategies, it still mentions a few of the mathematical tools Simons employed to grow the Medallion Fund. One such tool is Markov models, which describe mathematical systems that hop from one \"state\" (a situation or set of values) to another. Markov models are complex systems and trying to implement one here remains far beyond my elementary coding abilities. That said, I have decided to try and get to grips with the basics of AI / pattern recognition by applying similar principles to the very simple game: Rock, Paper, Scissors."
   ]
  },
  {
   "cell_type": "markdown",
   "id": "ab1a8977",
   "metadata": {},
   "source": [
    "Although rock-paper-scissors (RPS) may seem like a trivial game, it actually involves the hard computational problem of temporal pattern recognition. This problem is fundamental to the fields of machine learning, artificial intelligence, and data compression.\n",
    "\n",
    "To address this problem myself, I've decided to implement the following pattern recognition strategy.\n",
    "\n",
    "Assume the list below shows the last 20 hands played by an opponent in a game of RPS.\n",
    "\n",
    "['S','R','R','P','S','P','R','P','S','P','S','P','S','P','R','P','S','P','S','R'] ?\n",
    "\n",
    "To judge what is most likely to be played in the 21st hand, we can start by looking at the 20th, Rock, and see what the distribution of hands played following a Rock is. From there, we can look at the combination of the 19th and 20th hand, Scissors then Rock, and see what the distribution of hands played following a Scissors then a Rock. We can then train the code to repeat this process for all patterns in length up to half of the total length of the list of hands already played.\n",
    "\n",
    "For each round of 'next hand guessing', we will be able to return a table showing, 1. The pattern preceding the next (unknown hand), whether that pattern is either the last hand played or a sequence of the last 20 hands, 2. The amount of times this pattern has come up in the game so far, excluding this instance, and 3. Most importantly, the percentage distribution of Rock / Paper / Scissors that has been played following instances in which this pattern has previously appeared.\n",
    "\n",
    "The table for the set of 20 hands above would look as follows where %R, %P and %S are the hands that would follow the pattern;"
   ]
  },
  {
   "cell_type": "code",
   "execution_count": 82,
   "id": "1336cd7a",
   "metadata": {},
   "outputs": [
    {
     "name": "stdout",
     "output_type": "stream",
     "text": [
      "                              Pattern % Rock % Paper % Scissors  N\n",
      "1                                 [R]   25.0    75.0        0.0  4\n",
      "2                              [S, R]  100.0     0.0        0.0  1\n",
      "3                           [P, S, R]      -       -          -  0\n",
      "4                        [S, P, S, R]      -       -          -  0\n",
      "5                     [P, S, P, S, R]      -       -          -  0\n",
      "6                  [R, P, S, P, S, R]      -       -          -  0\n",
      "7               [P, R, P, S, P, S, R]      -       -          -  0\n",
      "8            [S, P, R, P, S, P, S, R]      -       -          -  0\n",
      "9         [P, S, P, R, P, S, P, S, R]      -       -          -  0\n",
      "10     [S, P, S, P, R, P, S, P, S, R]      -       -          -  0\n",
      "11  [P, S, P, S, P, R, P, S, P, S, R]      -       -          -  0\n"
     ]
    }
   ],
   "source": [
    "# output table from sample sequence"
   ]
  },
  {
   "cell_type": "markdown",
   "id": "4434754b",
   "metadata": {},
   "source": [
    "This strategy in of itself is by no means advanced, however there are certain approaches we can take to develop it further. First, we need a way to combine all the columns / patterns in deciding what hand to play next. To do that, we can convert the % figures back to integers. For each hand (R, P or S), we can then add up how many times each has come up in each pattern. Using a sum function, we can decide which hand to play. The output would look as follows. "
   ]
  },
  {
   "cell_type": "code",
   "execution_count": 72,
   "id": "be20fd67",
   "metadata": {},
   "outputs": [
    {
     "name": "stdout",
     "output_type": "stream",
     "text": [
      "                           Pattern  % Rock  % Paper  % Scissors    N  N(Rock)  \\\n",
      "1                                R    25.0     75.0         0.0  4.0      1.0   \n",
      "2                              S-R   100.0      0.0         0.0  1.0      1.0   \n",
      "3                        [P, S, R]     0.0      0.0         0.0  0.0      0.0   \n",
      "4                     [S, P, S, R]     0.0      0.0         0.0  0.0      0.0   \n",
      "5                  [P, S, P, S, R]     0.0      0.0         0.0  0.0      0.0   \n",
      "6               [R, P, S, P, S, R]     0.0      0.0         0.0  0.0      0.0   \n",
      "7            [P, R, P, S, P, S, R]     0.0      0.0         0.0  0.0      0.0   \n",
      "8         [S, P, R, P, S, P, S, R]     0.0      0.0         0.0  0.0      0.0   \n",
      "9      [P, S, P, R, P, S, P, S, R]     0.0      0.0         0.0  0.0      0.0   \n",
      "10  [S, P, S, P, R, P, S, P, S, R]     0.0      0.0         0.0  0.0      0.0   \n",
      "\n",
      "    N(Paper)  N(Scissors)  \n",
      "1        3.0          0.0  \n",
      "2        0.0          0.0  \n",
      "3        0.0          0.0  \n",
      "4        0.0          0.0  \n",
      "5        0.0          0.0  \n",
      "6        0.0          0.0  \n",
      "7        0.0          0.0  \n",
      "8        0.0          0.0  \n",
      "9        0.0          0.0  \n",
      "10       0.0          0.0  \n",
      "S\n"
     ]
    }
   ],
   "source": [
    "# output table with N values"
   ]
  },
  {
   "cell_type": "markdown",
   "id": "505b1544",
   "metadata": {},
   "source": [
    "After doing this analysis, we can then sum each of the N(Rock) / N(Paper) / N(Scissors) rows and in doing so find the most likely hand that would follow the historic patterns. We can then select our own response that will (hopefully) beat this hand.\n",
    "\n",
    "This is certainly a simple approach and there is much room for further improvemnt. Firstly, we could build in memory to the model so that recent historical patterns hold more weight than those idenitfied in the earlt stages of the game as an opponent may change his strategy. Second, we could devise a more advanced way of evaluating the table outputs, perhaps using significance tests for the data on each row / pattern."
   ]
  },
  {
   "cell_type": "code",
   "execution_count": 1,
   "id": "ae14025c",
   "metadata": {},
   "outputs": [],
   "source": [
    "import pandas as pd\n",
    "import numpy as np\n",
    "import random"
   ]
  },
  {
   "cell_type": "markdown",
   "id": "67336e55",
   "metadata": {},
   "source": [
    "Here is the algorithm"
   ]
  },
  {
   "cell_type": "code",
   "execution_count": 73,
   "id": "536ba465",
   "metadata": {},
   "outputs": [],
   "source": [
    "patterns_master = pd.DataFrame(columns = ['Pattern','% Rock','% Paper','% Scissors','N'])\n",
    "def identifypattern(array,n):\n",
    "    \n",
    "    patterns = pd.DataFrame(columns = ['Pattern','% Rock','% Paper','% Scissors','N'])\n",
    "    \n",
    "    def countX(lst, x):\n",
    "        count = 0\n",
    "        for ele in lst:\n",
    "            if (ele == x):\n",
    "                count = count + 1\n",
    "        return count\n",
    "\n",
    "    for i in range(0, n):\n",
    "        \n",
    "        # select pattern\n",
    "        pattern = array[len(array)-i-1:len(array)]\n",
    "        \n",
    "        # find all instances where first element of pattern occurs in array\n",
    "        possibles = np.where(array == pattern[0])[0]\n",
    "        \n",
    "        # don't want one of the possibles to include the pattern itself\n",
    "        possibles = [x for x in possibles if x < len(array)-len(pattern)]\n",
    "        solns,hands = ([] for i in range(2))\n",
    "        \n",
    "        # now find all instances of the pattern\n",
    "        for p in possibles:\n",
    "            check = array[p:p+len(pattern)]\n",
    "            if len(check) == len(pattern): \n",
    "                if np.all(check == pattern):\n",
    "                    solns.append(p)\n",
    "        \n",
    "        if len(solns) == 0: # i.e. no instances of this pattern have been previously recorded\n",
    "            row = [pattern,0,0,0,0] # better to use np.NaN then 0?\n",
    "            patterns.loc[len(patterns)] = row\n",
    "        \n",
    "        else: \n",
    "            # retrieve next hand played for all previous instances of pattern\n",
    "            for sol in solns:\n",
    "                hands.append(array[sol+len(pattern)])\n",
    "                \n",
    "            # convert to percentages\n",
    "            hands_count = [countX(hands,'R'),countX(hands,'P'),countX(hands,'S')] \n",
    "            hands_percent = [x / sum(hands_count) for x in hands_count]\n",
    "            hands_percent = [ele * 100 for ele in hands_percent]\n",
    "            hands_percent.append(round(len(solns)))\n",
    "            hands_percent = np.array(hands_percent, dtype = \"object\")\n",
    "            pattern = pattern.tolist()\n",
    "            pattern = '-'.join(pattern)\n",
    "            row = np.insert(hands_percent,0,pattern)\n",
    "            row = row.tolist()\n",
    "            patterns.loc[len(patterns)] = row  \n",
    "    patterns.index = np.arange(1, len(patterns) + 1)\n",
    "    \n",
    "    # convert values to float\n",
    "    patterns[\"% Rock\"] = pd.to_numeric(patterns[\"% Rock\"], downcast=\"float\")\n",
    "    patterns[\"% Paper\"] = pd.to_numeric(patterns[\"% Paper\"], downcast=\"float\")\n",
    "    patterns[\"% Scissors\"] = pd.to_numeric(patterns[\"% Scissors\"], downcast=\"float\")\n",
    "    patterns[\"N\"] = pd.to_numeric(patterns[\"N\"], downcast=\"float\")\n",
    "  \n",
    "    # finding the EV of each hand\n",
    "    patterns[\"N(Rock)\"] = patterns[\"% Rock\"] * patterns[\"N\"] * 0.01\n",
    "    patterns[\"N(Paper)\"] = patterns[\"% Paper\"] * patterns[\"N\"] * 0.01\n",
    "    patterns[\"N(Scissors)\"] = patterns[\"% Scissors\"] * patterns[\"N\"] * 0.01\n",
    "    \n",
    "    print(patterns)\n",
    "    \n",
    "    outcome_dict = {'P': patterns['N(Rock)'].sum(), 'S': patterns['N(Paper)'].sum(), 'R': patterns['N(Scissors)'].sum()}\n",
    "    global outcome, patterns_master\n",
    "    outcome = max(outcome_dict, key=outcome_dict.get)\n",
    "    # print(outcome)\n",
    "    \n",
    "    # add the analysis from this round into the master analysis dataframe\n",
    "    patterns_master = patterns_master.append(patterns)\n",
    "    patterns_master.loc[len(patterns_master)] = ['End of analysis',0,0,0,0,0,0,0]\n",
    "\n",
    "# build memory into model"
   ]
  },
  {
   "cell_type": "markdown",
   "id": "a7874ed6",
   "metadata": {},
   "source": [
    "Below is a master function that controls how many patterns to analyse for each round of a game."
   ]
  },
  {
   "cell_type": "code",
   "execution_count": 74,
   "id": "1f7b6c39",
   "metadata": {},
   "outputs": [],
   "source": [
    "def markov1(array):\n",
    "    if len(array) == 1:\n",
    "        global outcome\n",
    "        outcome = random.choice(['R','P','S'])\n",
    "        print(outcome)\n",
    "        \n",
    "    else:\n",
    "        if len(array) < 40:\n",
    "            if len(array) % 2 == 0:\n",
    "                n = int(len(array)/2)\n",
    "            else: \n",
    "                n = int((len(array)/2)-0.5)\n",
    "            print(n)\n",
    "            identifypattern(array,n)\n",
    "            \n",
    "        else:\n",
    "            identifypattern(array,20)          "
   ]
  },
  {
   "cell_type": "markdown",
   "id": "aa8c8091",
   "metadata": {},
   "source": [
    "Here is the functionality for a human opponent to play against the program."
   ]
  },
  {
   "cell_type": "code",
   "execution_count": null,
   "id": "2ecd22b7",
   "metadata": {},
   "outputs": [],
   "source": [
    "user_array = np.array([], dtype = \"object\")\n",
    "\n",
    "rounds = input(\"How many rounds do you want to play: \")\n",
    "\n",
    "computer_score = 0\n",
    "opponent_score = 0\n",
    "\n",
    "for _ in range(int(rounds)):\n",
    "    user_action = input(\"Enter a choice (R, P, S): \")\n",
    "    user_array = np.append(user_array, user_action)\n",
    "    print(user_array)\n",
    "    markov1(user_array)\n",
    "    if user_action == 'R' and outcome == 'P': \n",
    "        computer_score += 1\n",
    "    if user_action == 'S' and outcome == 'R':\n",
    "        computer_score += 1\n",
    "    if user_action == 'P' and outcome == 'S':\n",
    "        computer_score += 1\n",
    "    if user_action == 'R' and outcome == 'S':\n",
    "        opponent_score += 1\n",
    "    if user_action == 'S' and outcome == 'P':\n",
    "        opponent_score += 1\n",
    "    if user_action == 'P' and outcome == 'R':\n",
    "        opponent_score += 1\n",
    "    print(\"Computer action: {}\".format(outcome))\n",
    "    print(\"Computer score: {}, Your score: {}\".format(computer_score, opponent_score))"
   ]
  }
 ],
 "metadata": {
  "kernelspec": {
   "display_name": "Python 3 (ipykernel)",
   "language": "python",
   "name": "python3"
  },
  "language_info": {
   "codemirror_mode": {
    "name": "ipython",
    "version": 3
   },
   "file_extension": ".py",
   "mimetype": "text/x-python",
   "name": "python",
   "nbconvert_exporter": "python",
   "pygments_lexer": "ipython3",
   "version": "3.9.1"
  }
 },
 "nbformat": 4,
 "nbformat_minor": 5
}
